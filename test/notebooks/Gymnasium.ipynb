{
 "cells": [
  {
   "cell_type": "code",
   "execution_count": null,
   "id": "15a301e5",
   "metadata": {},
   "outputs": [],
   "source": [
    "!pip install \n"
   ]
  },
  {
   "cell_type": "code",
   "execution_count": null,
   "id": "adabb16a",
   "metadata": {},
   "outputs": [],
   "source": [
    "import gymnasium as gym\n",
    "\n",
    "print(\"running gym test\")\n",
    "\n",
    "env = gym.make(\"CartPole-v1\", render_mode=\"rgb_array\")\n",
    "\n",
    "observation, info = env.reset(seed=42)\n",
    "for _ in range(1000):\n",
    "    action = env.action_space.sample()\n",
    "    observation, reward, terminated, truncated, info = env.step(action)\n",
    "\n",
    "    if terminated or truncated:\n",
    "        observation, info = env.reset()\n",
    "    env.render()\n",
    "\n",
    "\n",
    "env.close()\n",
    "print(\"finished gym test\")"
   ]
  },
  {
   "cell_type": "code",
   "execution_count": null,
   "id": "317e15fd",
   "metadata": {},
   "outputs": [],
   "source": []
  }
 ],
 "metadata": {
  "kernelspec": {
   "display_name": "Python 3 (ipykernel)",
   "language": "python",
   "name": "python3"
  },
  "language_info": {
   "codemirror_mode": {
    "name": "ipython",
    "version": 3
   },
   "file_extension": ".py",
   "mimetype": "text/x-python",
   "name": "python",
   "nbconvert_exporter": "python",
   "pygments_lexer": "ipython3",
   "version": "3.9.12"
  }
 },
 "nbformat": 4,
 "nbformat_minor": 5
}
